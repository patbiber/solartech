{
 "cells": [
  {
   "cell_type": "code",
   "execution_count": 1,
   "id": "e8332213-7451-4664-8ebb-1825df3163fa",
   "metadata": {},
   "outputs": [
    {
     "name": "stdin",
     "output_type": "stream",
     "text": [
      "Masse (m) in kg:  5\n",
      "Spezifische Wärmekapazität (c) in J/(kg·K):  4.4\n",
      "Temperaturdifferenz (Δt) in K:  5\n"
     ]
    },
    {
     "name": "stdout",
     "output_type": "stream",
     "text": [
      "Energie Q: 110.00 Joule\n",
      "Energie Q: 0.000031 Kilowattstunden\n"
     ]
    }
   ],
   "source": [
    "# Eingabewerte\n",
    "m = float(input(\"Masse (m) in kg: \"))  # Masse in Kilogramm\n",
    "c = float(input(\"Spezifische Wärmekapazität (c) in J/(kg·K): \"))  # Wärmekapazität in J/(kg·K)\n",
    "delta_t = float(input(\"Temperaturdifferenz (Δt) in K: \"))  # Temperaturdifferenz in Kelvin\n",
    "\n",
    "# Berechnung der Energie\n",
    "Q_J = m * c * delta_t  # Energie in Joule\n",
    "Q_kWh = Q_J / 3.6e6  # Energie in Kilowattstunden\n",
    "\n",
    "# Ergebnisse ausgeben\n",
    "print(f\"Energie Q: {Q_J:.2f} Joule\")\n",
    "print(f\"Energie Q: {Q_kWh:.6f} Kilowattstunden\")\n"
   ]
  },
  {
   "cell_type": "code",
   "execution_count": null,
   "id": "ed2d7cfa-b792-4959-b7a3-b5104ea50823",
   "metadata": {},
   "outputs": [],
   "source": []
  }
 ],
 "metadata": {
  "kernelspec": {
   "display_name": "Python 3 (ipykernel)",
   "language": "python",
   "name": "python3"
  },
  "language_info": {
   "codemirror_mode": {
    "name": "ipython",
    "version": 3
   },
   "file_extension": ".py",
   "mimetype": "text/x-python",
   "name": "python",
   "nbconvert_exporter": "python",
   "pygments_lexer": "ipython3",
   "version": "3.12.3"
  }
 },
 "nbformat": 4,
 "nbformat_minor": 5
}
